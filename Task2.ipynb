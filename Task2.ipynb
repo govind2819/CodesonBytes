{
  "nbformat": 4,
  "nbformat_minor": 0,
  "metadata": {
    "colab": {
      "provenance": []
    },
    "kernelspec": {
      "name": "python3",
      "display_name": "Python 3"
    },
    "language_info": {
      "name": "python"
    }
  },
  "cells": [
    {
      "cell_type": "code",
      "source": [
        "import pandas as pd\n",
        "import numpy as np\n",
        "from scipy import stats"
      ],
      "metadata": {
        "id": "r5i79-PKIQWb"
      },
      "execution_count": 2,
      "outputs": []
    },
    {
      "cell_type": "code",
      "source": [
        "url = \"/content/dataset - netflix1.csv\"\n",
        "df = pd.read_csv(url)\n",
        "print(df)"
      ],
      "metadata": {
        "colab": {
          "base_uri": "https://localhost:8080/"
        },
        "id": "8axloxolIS7S",
        "outputId": "161e6fe8-beef-4528-a0d7-e581e7b75ab1"
      },
      "execution_count": 3,
      "outputs": [
        {
          "output_type": "stream",
          "name": "stdout",
          "text": [
            "     show_id     type                             title         director  \\\n",
            "0         s1    Movie              Dick Johnson Is Dead  Kirsten Johnson   \n",
            "1         s3  TV Show                         Ganglands  Julien Leclercq   \n",
            "2         s6  TV Show                     Midnight Mass    Mike Flanagan   \n",
            "3        s14    Movie  Confessions of an Invisible Girl    Bruno Garotti   \n",
            "4         s8    Movie                           Sankofa     Haile Gerima   \n",
            "...      ...      ...                               ...              ...   \n",
            "8785   s8797  TV Show                        Yunus Emre        Not Given   \n",
            "8786   s8798  TV Show                         Zak Storm        Not Given   \n",
            "8787   s8801  TV Show                Zindagi Gulzar Hai        Not Given   \n",
            "8788   s8784  TV Show                              Yoko        Not Given   \n",
            "8789   s8786  TV Show                               YOM        Not Given   \n",
            "\n",
            "            country  date_added  release_year rating   duration  \\\n",
            "0     United States   9/25/2021          2020  PG-13     90 min   \n",
            "1            France   9/24/2021          2021  TV-MA   1 Season   \n",
            "2     United States   9/24/2021          2021  TV-MA   1 Season   \n",
            "3            Brazil   9/22/2021          2021  TV-PG     91 min   \n",
            "4     United States   9/24/2021          1993  TV-MA    125 min   \n",
            "...             ...         ...           ...    ...        ...   \n",
            "8785         Turkey   1/17/2017          2016  TV-PG  2 Seasons   \n",
            "8786  United States   9/13/2018          2016  TV-Y7  3 Seasons   \n",
            "8787       Pakistan  12/15/2016          2012  TV-PG   1 Season   \n",
            "8788       Pakistan   6/23/2018          2016   TV-Y   1 Season   \n",
            "8789       Pakistan    6/7/2018          2016  TV-Y7   1 Season   \n",
            "\n",
            "                                              listed_in  \n",
            "0                                         Documentaries  \n",
            "1     Crime TV Shows, International TV Shows, TV Act...  \n",
            "2                    TV Dramas, TV Horror, TV Mysteries  \n",
            "3                    Children & Family Movies, Comedies  \n",
            "4      Dramas, Independent Movies, International Movies  \n",
            "...                                                 ...  \n",
            "8785                  International TV Shows, TV Dramas  \n",
            "8786                                           Kids' TV  \n",
            "8787  International TV Shows, Romantic TV Shows, TV ...  \n",
            "8788                                           Kids' TV  \n",
            "8789                                           Kids' TV  \n",
            "\n",
            "[8790 rows x 10 columns]\n"
          ]
        }
      ]
    },
    {
      "cell_type": "code",
      "execution_count": 9,
      "metadata": {
        "colab": {
          "base_uri": "https://localhost:8080/"
        },
        "id": "-hh5N1eoHdru",
        "outputId": "cc617cc8-f1cb-4776-cfc2-709965e5ca57"
      },
      "outputs": [
        {
          "output_type": "stream",
          "name": "stderr",
          "text": [
            "<ipython-input-9-9c4b4bcd4e9e>:11: FutureWarning: The default value of numeric_only in DataFrame.mean is deprecated. In a future version, it will default to False. In addition, specifying 'numeric_only=None' is deprecated. Select only valid columns or specify the value of numeric_only to silence this warning.\n",
            "  df.fillna(df.mean(), inplace=True)\n",
            "<ipython-input-9-9c4b4bcd4e9e>:11: SettingWithCopyWarning: \n",
            "A value is trying to be set on a copy of a slice from a DataFrame.\n",
            "Try using .loc[row_indexer,col_indexer] = value instead\n",
            "\n",
            "See the caveats in the documentation: https://pandas.pydata.org/pandas-docs/stable/user_guide/indexing.html#returning-a-view-versus-a-copy\n",
            "  df.fillna(df.mean(), inplace=True)\n"
          ]
        }
      ],
      "source": [
        "import numpy as np\n",
        "from scipy import stats\n",
        "import pandas as pd\n",
        "\n",
        "def remove_outliers(df, columntoclean, threshold=3):\n",
        "    z_scores = np.abs(stats.zscore(df[columntoclean]))\n",
        "    return df[(z_scores < threshold)]\n",
        "\n",
        "columntoclean = 'release_year'\n",
        "\n",
        "df.fillna(df.mean(), inplace=True)\n",
        "\n",
        "df = remove_outliers(df, columntoclean)\n",
        "\n",
        "df.to_csv(\"cleaned_dataset.csv\", index=False)\n"
      ]
    },
    {
      "cell_type": "code",
      "source": [],
      "metadata": {
        "id": "DyUsiUIfN-BL"
      },
      "execution_count": null,
      "outputs": []
    }
  ]
}